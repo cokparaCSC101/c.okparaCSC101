{
 "cells": [
  {
   "cell_type": "code",
   "execution_count": 6,
   "id": "0aadbe65",
   "metadata": {},
   "outputs": [
    {
     "name": "stdout",
     "output_type": "stream",
     "text": [
      "Welcome to my Orange Store\n",
      "How many oranges would you like to buy45\n",
      "The cost is N4500\n",
      "THANK YOU FOR YOUR PATRONAGE!\n"
     ]
    }
   ],
   "source": [
    "#Projcet I\n",
    "class oranges():\n",
    "    def number(self, a , b):\n",
    "        if a > 50:\n",
    "            print(\"Please choose a smaller number of oranges\")\n",
    "        else:\n",
    "            print('The cost is N'+str(b))\n",
    "            print('THANK YOU FOR YOUR PATRONAGE!')\n",
    "            \n",
    "print(\"Welcome to my Orange Store\")\n",
    "a = int(input('How many oranges would you like to buy'))\n",
    "b = a * 100\n",
    "Purchase = oranges()\n",
    "Purchase.number(a,b)"
   ]
  },
  {
   "cell_type": "code",
   "execution_count": 17,
   "id": "1a63e51d",
   "metadata": {},
   "outputs": [
    {
     "name": "stdout",
     "output_type": "stream",
     "text": [
      "The CLINTON AREA CALCULATOR has been powered on :D\n",
      "Which shape would you like to know the area of?cube\n",
      "Enter the size of 1 side667878879989089089987867766554212121212324345456565\n",
      "The Area of the Cube is 2676373190012880403696510337915700894060132036107982072438069184586473955301004990333732526149809595350\n",
      "POWER ME OFF! :(\n"
     ]
    }
   ],
   "source": [
    "#Project II\n",
    "class Calc():\n",
    "    def Trapezium(self, b1, b2, h):\n",
    "        T = ((h / 2) * (b1 + b2))\n",
    "        print('The Area of the Trapezium is', str(T))\n",
    "    \n",
    "    def Rhombus(self, d1, d2):\n",
    "        R = ((d1 * d2) / 2)\n",
    "        print(\"The Area of the Rhombus is\", str(R))\n",
    "    \n",
    "    def Parallelogram(self, b, al):\n",
    "        P = (b * al)\n",
    "        print(\"The Area of the Parallelogram is\", str(P))\n",
    "    \n",
    "    def Cube(self, s):\n",
    "        C = (6 * (s ** 2))\n",
    "        print(\"The Area of the Cube is\", str(C))\n",
    "    \n",
    "    def Cylinder(self, r, l):\n",
    "        CY = ((22 / 7) * (r ** 2) * (l))\n",
    "        print(\"The Area of the Cylinder is\", str(CY))\n",
    "\n",
    "\n",
    "print(\"The CLINTON AREA CALCULATOR has been powered on :D\")\n",
    "a= input('Which shape would you like to know the area of?')\n",
    "a = a.lower()\n",
    "Area = Calc()\n",
    "if a == 'trapezium':\n",
    "    b1 = int(input('Enter the size of bigger base'))\n",
    "    b2 = int(input('Enter the size of smaller base'))\n",
    "    h = int(input('Enter the size of height'))\n",
    "    Area.Trapezium(b1, b2, h)\n",
    "elif a == 'rhombus':\n",
    "    d1 = int(input('Enter the size of the first diagonal'))\n",
    "    d2 = int(input('Enter the size of the second diagonal'))\n",
    "    Area.Rhombus(d1, d2)\n",
    "elif a == 'parallelogram':\n",
    "    b = int(input('Enter the size of the base'))\n",
    "    al = int(input('Enter the size of the altitude'))\n",
    "    Area.Parallelogram(b, al)\n",
    "elif a == 'cube':\n",
    "    s = int(input('Enter the size of 1 side'))\n",
    "    Area.Cube(s)\n",
    "elif a == 'cylinder':\n",
    "    r = int(input('Enter the size of the radius'))\n",
    "    l = int(input('Enter the size of the height'))\n",
    "    Area.Cylinder(r, l)\n",
    "else:\n",
    "    print(\"Mehn I ain't Albert Einstein, ya know. I'm just a calculator made by a college student.\")\n",
    "\n",
    "print(\"POWER ME OFF! :(\")\n",
    "    "
   ]
  },
  {
   "cell_type": "code",
   "execution_count": 14,
   "id": "666b54cf",
   "metadata": {},
   "outputs": [],
   "source": [
    "#Project III\n",
    "import pandas as pd\n",
    "\n",
    "dict = {'Lager': ('33 Export', 'Desperados', 'Goldberg', 'Gulder', 'Heineken', 'Star'),\n",
    "        'Stout': ('Legend', 'Turbo King', 'Williams', '-', '-', '-'),\n",
    "         'Non-Alcoholic': ('Maltina', 'Amstel Malta', 'Malta Gold', 'Fayrouz', '-', '-')}\n",
    "df = pd.DataFrame(dict)\n",
    "\n",
    "class File():\n",
    "    def save(self):\n",
    "        df.to_csv('Beverages.csv')\n",
    "        \n",
    "Brew = File()\n",
    "Brew.save()\n",
    "        \n",
    "\n",
    "        \n"
   ]
  },
  {
   "cell_type": "code",
   "execution_count": null,
   "id": "19774370",
   "metadata": {},
   "outputs": [],
   "source": []
  }
 ],
 "metadata": {
  "kernelspec": {
   "display_name": "Python 3 (ipykernel)",
   "language": "python",
   "name": "python3"
  },
  "language_info": {
   "codemirror_mode": {
    "name": "ipython",
    "version": 3
   },
   "file_extension": ".py",
   "mimetype": "text/x-python",
   "name": "python",
   "nbconvert_exporter": "python",
   "pygments_lexer": "ipython3",
   "version": "3.10.9"
  }
 },
 "nbformat": 4,
 "nbformat_minor": 5
}
